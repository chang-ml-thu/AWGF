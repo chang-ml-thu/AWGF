{
 "cells": [
  {
   "cell_type": "code",
   "execution_count": null,
   "metadata": {},
   "outputs": [],
   "source": [
    "import os, warnings\n",
    "import time as tm\n",
    "import numpy as np\n",
    "import tensorflow as tf\n",
    "import matplotlib.pyplot as plt\n",
    "from sklearn.model_selection import train_test_split\n",
    "from scipy.io import loadmat\n",
    "from functools import partial\n",
    "from dynamics import Dynamics\n",
    "from blr_def import BayesLR\n",
    "\n",
    "# Data and Global Settings\n",
    "a0 = 1.; b0 = 1e+2; M = 100; batchsize = 50; # batchsize = -1;\n",
    "n_iter = 250; n_round = 50\n",
    "# n_iter = 100; n_round = 10\n",
    "datastr = 'a0 = {:.2e}; b0 = {:.2e}; M = {:d}; batchsize = {:d};'.format(a0, b0, M, batchsize)\n",
    "######################\n",
    "data = loadmat('./data/covertype.mat')\n",
    "X_input = data['covtype'][:, 1:]\n",
    "X_input = np.hstack([X_input, np.ones([X_input.shape[0], 1])])\n",
    "y_input = data['covtype'][:, 0]\n",
    "y_input[y_input == 2] = 0 # !!!\n",
    "# split the dataset into training and testing\n",
    "X_train, X_test, y_train, y_test = train_test_split(X_input, y_input, test_size=0.2, random_state=42)\n",
    "fullsize, featsize = X_train.shape\n",
    "shuffle_ids = np.random.permutation(fullsize)\n",
    "dataName = 'covtype'\n",
    "######################\n",
    "dirname = './blr_res_' + dataName + '/'\n",
    "if not os.path.isdir(dirname): os.makedirs(dirname)\n",
    "model = BayesLR(featsize=featsize, M=M, a0=a0, b0=b0)\n",
    "get_logp = partial(model.get_logp, fullsize=fullsize)\n",
    "print('Feature dimension: {:d}'.format(featsize)); print('Tr/Ts Data size: {:d}/{:d}'.format(fullsize, X_test.shape[0]))\n",
    "######################"
   ]
  },
  {
   "cell_type": "code",
   "execution_count": null,
   "metadata": {},
   "outputs": [],
   "source": [
    "lwth = 2\n",
    "def blr_run(pm):\n",
    "    pmstr_full = '; '.join([k + ' = ' + repr(getattr(pm, k)) for k in dir(pm) if not k.startswith('__')])\n",
    "    pmstr_lite = '_'.join((pm.dnType, pm.accType, pm.bwType if hasattr(pm, 'bwType') else 'void', pm.optType))\n",
    "    appd = -1\n",
    "    while True:\n",
    "        appd += 1; subfilename = 'M{:d}_Bs{:d}_{}_{:d}.txt'.format(M, batchsize, pmstr_lite, appd)\n",
    "        filename = dirname + subfilename\n",
    "        if not os.path.exists(filename): break\n",
    "    print('\\n'.join((datastr, pmstr_full, 'Results written in file:\\n\"{}\"\\n'.format(filename))))\n",
    "    \n",
    "    plt_iter = range(n_iter, n_iter*n_round+1, n_iter); plt_val = np.zeros((5, n_round))\n",
    "    op_samples, dninfo = Dynamics(pm.dnType, pm).evolve(model.latvar, get_logp=get_logp)\n",
    "    with tf.Session() as sess:\n",
    "        tf.global_variables_initializer().run()\n",
    "        with open(filename, 'w') as fid:\n",
    "            fid.write(datastr + '\\n' + pmstr_full + '\\n')\n",
    "            fid.write(73*'-' + '\\n')\n",
    "            fid.write(' iter accuracy    log-llh    |     bwmax        bwmed      bandwidth\\n')\n",
    "            fid.write(29*'-' + '+' + 43*'-' + '\\n')\n",
    "            print('Total Round {:d}:'.format(n_round)),\n",
    "            for it in range(n_round):\n",
    "                print(' {:d}'.format(it+1)),\n",
    "                for j in range(n_iter):\n",
    "                    total_iter = it*n_iter + j\n",
    "                    batch_ids = shuffle_ids[[i % fullsize for i in range(total_iter*batchsize, (total_iter+1)*batchsize)]]\n",
    "                    if j == n_iter-1: break;\n",
    "                    sess.run(op_samples, {model.X_train: X_train[batch_ids], model.Y_train: y_train[batch_ids]})\n",
    "                _, bandw, bwmed, bwmax = sess.run([op_samples, dninfo.bandw, dninfo.bwmed, dninfo.bwmax],\\\n",
    "                                                 {model.X_train: X_train[batch_ids], model.Y_train: y_train[batch_ids]})\n",
    "                acc, llh = sess.run([model.acc, model.llh], {model.X_test: X_test, model.Y_test: y_test})\n",
    "                plt_val[:,it] = [acc, llh, bwmax, bwmed, bandw]\n",
    "                fid.write('{:5d} {:.6f} {:.6e} | {:.6e} {:.6e} {:.6e}\\n'.format((it+1)*n_iter, *plt_val[:,it]))\n",
    "            print('\\n')\n",
    "    return subfilename\n",
    "\n",
    "def loadfile(collist, subfilename):\n",
    "    records = []; iters = []\n",
    "    with open(dirname + subfilename, 'r') as fid:\n",
    "        for i in range(5): fid.readline()\n",
    "        for line in fid:\n",
    "            strs = line.split()\n",
    "            records.append([float(strs[i]) for i in collist])\n",
    "            iters.append(int(strs[0]))\n",
    "    return np.array(records), np.array(iters)\n",
    "\n",
    "def figmk(colnames, errbar, *cmdlist):\n",
    "    coldict = {'acc': 1, 'llh': 2, 'diam': 4, 'med': 5, 'bw': 6}\n",
    "    colinvdict = {1: 'accuracy', 2: 'log-likelihood', 4: 'sample maxdist', 5: 'sample median', 6: 'bandwidth'}\n",
    "    collist = [coldict[name] for name in colnames]\n",
    "    nfig = len(colnames)\n",
    "    fig, ax = plt.subplots(1, nfig, sharex=True, figsize=(4*nfig+2, 4))\n",
    "    if nfig == 1: ax = [ax]\n",
    "    for cmd in cmdlist:\n",
    "        if type(cmd[2]) == str:\n",
    "            records, iters = loadfile(collist, cmd[2])\n",
    "            for i in range(nfig): ax[i].plot(iters, records[:,i], cmd[1], label=cmd[0], linewidth=lwth)\n",
    "        elif type(cmd[2]) == list:\n",
    "            nfile = len(cmd[2])\n",
    "            rec0, iters = loadfile(collist, cmd[2][0])\n",
    "            reclist = np.zeros((nfile,) + rec0.shape)\n",
    "            reclist[0] = rec0\n",
    "            for n in range(1, nfile):\n",
    "                reclist[n], iters_n = loadfile(collist, cmd[2][n])\n",
    "                if np.any(iters_n != iters):\n",
    "                    warnings.warn('Iteration not aligned for files with label \"%s\" (n = %d)! Entry ignored'%(cmd[0], n))\n",
    "                    break\n",
    "            else:\n",
    "                means = np.sum(reclist, axis=0)/nfile\n",
    "                if not errbar:\n",
    "                    for i in range(nfig): ax[i].plot(iters, means[:,i], cmd[1], label=cmd[0], linewidth=lwth)\n",
    "                else:\n",
    "                    errs = np.sqrt(np.sum(reclist**2, axis=0)/nfile - means**2)\n",
    "                    for i in range(nfig): ax[i].errorbar(iters, means[:,i], errs[:,i], fmt=cmd[1], label=cmd[0], elinewidth=lwth)\n",
    "    for i in range(nfig): ax[i].set_ylabel(colinvdict[collist[i]]); ax[i].set_xlabel('iteration'); ax[i].legend()\n",
    "    return fig, ax"
   ]
  },
  {
   "cell_type": "markdown",
   "metadata": {},
   "source": [
    "# SVGD"
   ]
  },
  {
   "cell_type": "code",
   "execution_count": null,
   "metadata": {
    "scrolled": false
   },
   "outputs": [],
   "source": [
    "class PM: \n",
    "    dnType = 'SVGD'; dnNormalize = False\n",
    "    accType = 'wgd';\n",
    "    bwType = 'med'; optType = 'adag'; optRemem = .9; optFudge = 1e-6; stepsize = 3e-2\n",
    "t0 = tm.time(); subfname = blr_run(PM()); t1 = tm.time(); print(t1-t0)\n",
    "fig, ax = figmk(['acc', 'llh', 'diam', 'bw'], False, ('SVGD-WGD', 'r-', subfname))"
   ]
  },
  {
   "cell_type": "code",
   "execution_count": null,
   "metadata": {},
   "outputs": [],
   "source": [
    "class PM: \n",
    "    dnType = 'SVGD'; dnNormalize = False\n",
    "    accType = 'po'; accRemem = .7; accExpo = 1.; accNoise = 1e-7\n",
    "    bwType = 'med'; optType = 'gd'; stepsize = 3e-6\n",
    "t0 = tm.time(); subfname = blr_run(PM()); t1 = tm.time(); print(t1-t0)\n",
    "fig, ax = figmk(['acc', 'llh', 'diam', 'bw'], False, ('SVGD-PO', 'k:', subfname))"
   ]
  },
  {
   "cell_type": "code",
   "execution_count": null,
   "metadata": {
    "scrolled": false
   },
   "outputs": [],
   "source": [
    "class PM:\n",
    "    dnType = 'SVGD'; dnNormalize = False\n",
    "    accType = 'wnag'; accRemem = 3.9\n",
    "    optType = 'sgd'; optExpo = .9; stepsize = 1e-6\n",
    "    bwType = 'med'\n",
    "t0 = tm.time(); subfname = blr_run(PM()); t1 = tm.time(); print(t1-t0)\n",
    "fig, ax = figmk(['acc', 'llh', 'diam', 'bw'], False, ('SVGD-WAG', 'b--', subfname))"
   ]
  },
  {
   "cell_type": "code",
   "execution_count": null,
   "metadata": {},
   "outputs": [],
   "source": [
    "class PM: \n",
    "    dnType = 'SVGD'; dnNormalize = False\n",
    "    accType = 'wnes1'; accHessBnd = 3e+2; accShrink = .2\n",
    "    optType = 'sgd'; optExpo = .8; stepsize = 3e-4\n",
    "    bwType = 'med'; # bwType = 'he'; bwSubType = 'h'\n",
    "t0 = tm.time(); subfname = blr_run(PM()); t1 = tm.time(); print(t1-t0)\n",
    "fig, ax = figmk(['acc', 'llh', 'diam', 'bw'], False, ('SVGD-WNes', 'g-.', subfname))"
   ]
  },
  {
   "cell_type": "markdown",
   "metadata": {},
   "source": [
    "# Blob"
   ]
  },
  {
   "cell_type": "code",
   "execution_count": null,
   "metadata": {},
   "outputs": [],
   "source": [
    "class PM:\n",
    "    dnType = 'Blob'\n",
    "    accType = 'wgd'\n",
    "    optType = 'gd'; stepsize = 1e-6\n",
    "    bwType = 'med'\n",
    "t0 = tm.time(); subfname = blr_run(PM()); t1 = tm.time(); print(t1-t0)\n",
    "fig, ax = figmk(['acc', 'llh', 'diam', 'bw'], False, ('Blob-WGD', 'r-', subfname))"
   ]
  },
  {
   "cell_type": "code",
   "execution_count": null,
   "metadata": {},
   "outputs": [],
   "source": [
    "class PM:\n",
    "    dnType = 'Blob'\n",
    "    accType = 'po'; accExpo = 1.; accRemem = .7; accNoise = 1e-7\n",
    "    optType = 'gd'; stepsize = 3e-7\n",
    "    bwType = 'med'\n",
    "t0 = tm.time(); subfname = blr_run(PM()); t1 = tm.time(); print(t1-t0)\n",
    "fig, ax = figmk(['acc', 'llh', 'diam', 'bw'], False, ('Blob-PO', 'k:', subfname))"
   ]
  },
  {
   "cell_type": "code",
   "execution_count": null,
   "metadata": {},
   "outputs": [],
   "source": [
    "class PM:\n",
    "    dnType = 'Blob'\n",
    "    accType = 'wnag'; accRemem = 3.9\n",
    "    optType = 'sgd'; optExpo = .9; stepsize = 1e-6\n",
    "    bwType = 'med'\n",
    "t0 = tm.time(); subfname = blr_run(PM()); t1 = tm.time(); print(t1-t0)\n",
    "fig, ax = figmk(['acc', 'llh', 'diam', 'bw'], False, ('Blob-WAG', 'b--', subfname))"
   ]
  },
  {
   "cell_type": "code",
   "execution_count": null,
   "metadata": {},
   "outputs": [],
   "source": [
    "class PM:\n",
    "    dnType = 'Blob'\n",
    "    accType = 'wnes1'; accHessBnd = 1e+4; accShrink = .2\n",
    "    optType = 'sgd'; optExpo = .9; stepsize = 1e-5\n",
    "    bwType = 'med'\n",
    "t0 = tm.time(); subfname = blr_run(PM()); t1 = tm.time(); print(t1-t0)\n",
    "fig, ax = figmk(['acc', 'llh', 'diam', 'bw'], False, ('Blob-WNes', 'g-.', subfname))"
   ]
  },
  {
   "cell_type": "markdown",
   "metadata": {},
   "source": [
    "# GFSD"
   ]
  },
  {
   "cell_type": "code",
   "execution_count": null,
   "metadata": {},
   "outputs": [],
   "source": [
    "class PM:\n",
    "    dnType = 'GFSD'\n",
    "    accType = 'wgd'\n",
    "    optType = 'gd'; stepsize = 1e-6\n",
    "    bwType = 'med'\n",
    "t0 = tm.time(); subfname = blr_run(PM()); t1 = tm.time(); print(t1-t0)\n",
    "fig, ax = figmk(['acc', 'llh', 'diam', 'bw'], False, ('GFSD-WGD', 'r-', subfname))"
   ]
  },
  {
   "cell_type": "code",
   "execution_count": null,
   "metadata": {
    "scrolled": false
   },
   "outputs": [],
   "source": [
    "class PM:\n",
    "    dnType = 'GFSD'\n",
    "    accType = 'po'; accExpo = 1.; accRemem = .7; accNoise = 1e-7\n",
    "    optType = 'gd'; stepsize = 3e-7\n",
    "    bwType = 'med'\n",
    "t0 = tm.time(); subfname = blr_run(PM()); t1 = tm.time(); print(t1-t0)\n",
    "fig, ax = figmk(['acc', 'llh', 'diam', 'bw'], False, ('GFSD-PO', 'k:', subfname))"
   ]
  },
  {
   "cell_type": "code",
   "execution_count": null,
   "metadata": {},
   "outputs": [],
   "source": [
    "class PM:\n",
    "    dnType = 'GFSD'\n",
    "    accType = 'wnag'; accRemem = 3.9\n",
    "    optType = 'sgd'; optExpo = .9; stepsize = 1e-6\n",
    "    bwType = 'med'\n",
    "t0 = tm.time(); subfname = blr_run(PM()); t1 = tm.time(); print(t1-t0)\n",
    "fig, ax = figmk(['acc', 'llh', 'diam', 'bw'], False, ('GFSD-WAG', 'b--', subfname))"
   ]
  },
  {
   "cell_type": "code",
   "execution_count": null,
   "metadata": {},
   "outputs": [],
   "source": [
    "class PM:\n",
    "    dnType = 'GFSD'\n",
    "    accType = 'wnes1'; accHessBnd = 1e+4; accShrink = .2\n",
    "    optType = 'sgd'; optExpo = .9; stepsize = 1e-5\n",
    "    bwType = 'med'\n",
    "t0 = tm.time(); subfname = blr_run(PM()); t1 = tm.time(); print(t1-t0)\n",
    "fig, ax = figmk(['acc', 'llh', 'diam', 'bw'], False, ('GFSD-WNes', 'g-.', subfname))"
   ]
  },
  {
   "cell_type": "markdown",
   "metadata": {},
   "source": [
    "# GFSF"
   ]
  },
  {
   "cell_type": "code",
   "execution_count": null,
   "metadata": {},
   "outputs": [],
   "source": [
    "class PM:\n",
    "    dnType = 'GFSF'; dnRidge = 1e-5\n",
    "    accType = 'wgd'\n",
    "    optType = 'gd'; stepsize = 1e-6\n",
    "    bwType = 'med'\n",
    "t0 = tm.time(); subfname = blr_run(PM()); t1 = tm.time(); print(t1-t0)\n",
    "fig, ax = figmk(['acc', 'llh', 'diam', 'bw'], False, ('GFSF-WGD', 'r-', subfname))"
   ]
  },
  {
   "cell_type": "code",
   "execution_count": null,
   "metadata": {},
   "outputs": [],
   "source": [
    "class PM:\n",
    "    dnType = 'GFSF'; dnRidge = 1e-5\n",
    "    accType = 'po'; accExpo = 1.; accRemem = .7; accNoise = 1e-7\n",
    "    optType = 'gd'; stepsize = 3e-7\n",
    "    bwType = 'med'\n",
    "t0 = tm.time(); subfname = blr_run(PM()); t1 = tm.time(); print(t1-t0)\n",
    "fig, ax = figmk(['acc', 'llh', 'diam', 'bw'], False, ('GFSF-PO', 'k:', subfname))"
   ]
  },
  {
   "cell_type": "code",
   "execution_count": null,
   "metadata": {
    "scrolled": false
   },
   "outputs": [],
   "source": [
    "class PM:\n",
    "    dnType = 'GFSF'; dnRidge = 1e-5\n",
    "    accType = 'wnag'; accRemem = 3.9\n",
    "    optType = 'sgd'; optExpo = .9; stepsize = 1e-6\n",
    "    bwType = 'med'\n",
    "t0 = tm.time(); subfname = blr_run(PM()); t1 = tm.time(); print(t1-t0)\n",
    "fig, ax = figmk(['acc', 'llh', 'diam', 'bw'], False, ('GFSF-WAG', 'b--', subfname))"
   ]
  },
  {
   "cell_type": "code",
   "execution_count": null,
   "metadata": {},
   "outputs": [],
   "source": [
    "class PM:\n",
    "    dnType = 'GFSF'; dnRidge = 1e-5\n",
    "    accType = 'wnes1'; accHessBnd = 1e+4; accShrink = .2\n",
    "    optType = 'sgd'; optExpo = .9; stepsize = 1e-5\n",
    "    bwType = 'med'\n",
    "t0 = tm.time(); subfname = blr_run(PM()); t1 = tm.time(); print(t1-t0)\n",
    "fig, ax = figmk(['acc', 'llh', 'diam', 'bw'], False, ('GFSF-WNes', 'g-.', subfname))"
   ]
  }
 ],
 "metadata": {
  "kernelspec": {
   "display_name": "Python 2",
   "language": "python",
   "name": "python2"
  },
  "language_info": {
   "codemirror_mode": {
    "name": "ipython",
    "version": 2
   },
   "file_extension": ".py",
   "mimetype": "text/x-python",
   "name": "python",
   "nbconvert_exporter": "python",
   "pygments_lexer": "ipython2",
   "version": "2.7.15rc1"
  }
 },
 "nbformat": 4,
 "nbformat_minor": 2
}
